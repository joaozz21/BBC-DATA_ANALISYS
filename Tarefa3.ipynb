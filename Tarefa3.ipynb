{
  "nbformat": 4,
  "nbformat_minor": 0,
  "metadata": {
    "colab": {
      "provenance": [],
      "authorship_tag": "ABX9TyMuGVrrOUjuN3a/1vG8NWWu",
      "include_colab_link": true
    },
    "kernelspec": {
      "name": "python3",
      "display_name": "Python 3"
    },
    "language_info": {
      "name": "python"
    }
  },
  "cells": [
    {
      "cell_type": "markdown",
      "metadata": {
        "id": "view-in-github",
        "colab_type": "text"
      },
      "source": [
        "<a href=\"https://colab.research.google.com/github/joaozz21/BBC19JOAOHENRIQUE/blob/main/Tarefa3.ipynb\" target=\"_parent\"><img src=\"https://colab.research.google.com/assets/colab-badge.svg\" alt=\"Open In Colab\"/></a>"
      ]
    },
    {
      "cell_type": "markdown",
      "source": [
        "##João Henrique Alves de Oliveira"
      ],
      "metadata": {
        "id": "rjiHehWl8D0Q"
      }
    },
    {
      "cell_type": "markdown",
      "source": [
        "- Use o notebook para encontrar o número de segundos para 1) uma hora e meia; 2) 12 horas; 3) 24 horas.\n",
        "\n",
        "- Os três resultados devem ser mostrados ao executar o notebook."
      ],
      "metadata": {
        "id": "DKLSJFQY8reI"
      }
    },
    {
      "cell_type": "code",
      "source": [
        "#a)\n",
        "\n",
        "h=1.5\n",
        "m=h*60\n",
        "s=m*60\n",
        "print('1 hora e meia equivale a',int(s),'segundos.')\n",
        "\n",
        "#b)\n",
        "\n",
        "h=12\n",
        "m=h*60\n",
        "s=m*60\n",
        "print('12 horas equivalem a',int(s),'segundos.')\n",
        "\n",
        "#c)\n",
        "\n",
        "h=24\n",
        "m=h*60\n",
        "s=m*60\n",
        "print('24 horas equivalem a',int(s),'segundos.')"
      ],
      "metadata": {
        "colab": {
          "base_uri": "https://localhost:8080/"
        },
        "id": "SjmPR29C8scA",
        "outputId": "7d53ef43-a7f4-4b8d-c577-9dc872b479bf"
      },
      "execution_count": 6,
      "outputs": [
        {
          "output_type": "stream",
          "name": "stdout",
          "text": [
            "1 hora e meia equivale a 5400 segundos\n",
            "12 horas equivalem a 43200 segundos\n",
            "24 horas equivalem a 86400 segundos\n"
          ]
        }
      ]
    },
    {
      "cell_type": "markdown",
      "source": [],
      "metadata": {
        "id": "2MWROVWp-kNK"
      }
    }
  ]
}