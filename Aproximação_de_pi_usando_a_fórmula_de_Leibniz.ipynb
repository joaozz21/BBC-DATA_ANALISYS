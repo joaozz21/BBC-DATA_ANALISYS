{
  "nbformat": 4,
  "nbformat_minor": 0,
  "metadata": {
    "colab": {
      "provenance": [],
      "authorship_tag": "ABX9TyPUX2BEMoZEjlAXvROBXly3",
      "include_colab_link": true
    },
    "kernelspec": {
      "name": "python3",
      "display_name": "Python 3"
    },
    "language_info": {
      "name": "python"
    }
  },
  "cells": [
    {
      "cell_type": "markdown",
      "metadata": {
        "id": "view-in-github",
        "colab_type": "text"
      },
      "source": [
        "<a href=\"https://colab.research.google.com/github/joaozz21/Projetos_de_Estudo/blob/main/Aproxima%C3%A7%C3%A3o_de_pi_usando_a_f%C3%B3rmula_de_Leibniz.ipynb\" target=\"_parent\"><img src=\"https://colab.research.google.com/assets/colab-badge.svg\" alt=\"Open In Colab\"/></a>"
      ]
    },
    {
      "cell_type": "markdown",
      "source": [
        "# João Henrique Alves de Oliveira"
      ],
      "metadata": {
        "id": "BsqExU24srUi"
      }
    },
    {
      "cell_type": "markdown",
      "source": [
        "Faça a aproximação de $\\pi$ usando a fórmula de Leibniz:\n",
        "\n",
        "$$\\pi \\approx 4 - \\frac{4}{3} + \\frac{4}{5} - \\frac{4}{7} + \\frac{4}{9}+...$$\n",
        "\n",
        "Calcule (e mostre na tela) a aproximação de $\\pi$ considerando a) 50 termos, b) 500 termos, c) 1000 termos e d) 10000 termos.\n",
        "\n",
        "Dica: Note que o sinal do termo muda a cada termo. Talvez verificar se o $i$ é par ou ímpar ajude a decidir se para aquele i o sinal é mais ou menos."
      ],
      "metadata": {
        "id": "4ovj-jPGs0qR"
      }
    },
    {
      "cell_type": "code",
      "execution_count": 2,
      "metadata": {
        "colab": {
          "base_uri": "https://localhost:8080/"
        },
        "id": "Hwicab88sqZF",
        "outputId": "7e3b5e9b-d9d1-4a41-82c4-97d5e83f825e"
      },
      "outputs": [
        {
          "output_type": "stream",
          "name": "stdout",
          "text": [
            "Calculo de Leibniz com 50 termos: 3.1611986129870506\n",
            "Calculo de Leibniz com 500 termos: 3.143588659585789\n",
            "Calculo de Leibniz com 1000 termos: 3.1425916543395442\n",
            "Calculo de Leibniz com 10000 termos: 3.1416926435905346\n"
          ]
        }
      ],
      "source": [
        "def leibniz(termos:int):\n",
        "  x = 4\n",
        "  denominador = 1\n",
        "  leibniz = 0\n",
        "  i = 0\n",
        "\n",
        "  while i <= termos:\n",
        "    formula = x/denominador\n",
        "    leibniz =leibniz + formula\n",
        "    denominador += 2\n",
        "    x = x*(-1)\n",
        "    i+= 1\n",
        "\n",
        "  return leibniz\n",
        "\n",
        "\n",
        "termos50 = leibniz(50)\n",
        "termos500 = leibniz(500)\n",
        "termos1000 = leibniz(1000)\n",
        "termos10000 = leibniz(10000)\n",
        "\n",
        "print(f'Calculo de Leibniz com 50 termos: {termos50}')\n",
        "print(f'Calculo de Leibniz com 500 termos: {termos500}')\n",
        "print(f'Calculo de Leibniz com 1000 termos: {termos1000}')\n",
        "print(f'Calculo de Leibniz com 10000 termos: {termos10000}')"
      ]
    }
  ]
}