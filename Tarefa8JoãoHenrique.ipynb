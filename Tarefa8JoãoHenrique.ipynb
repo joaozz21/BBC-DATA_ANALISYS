{
  "nbformat": 4,
  "nbformat_minor": 0,
  "metadata": {
    "colab": {
      "provenance": [],
      "authorship_tag": "ABX9TyONFSsoi78i+4cXNnUEBTNL",
      "include_colab_link": true
    },
    "kernelspec": {
      "name": "python3",
      "display_name": "Python 3"
    },
    "language_info": {
      "name": "python"
    }
  },
  "cells": [
    {
      "cell_type": "markdown",
      "metadata": {
        "id": "view-in-github",
        "colab_type": "text"
      },
      "source": [
        "<a href=\"https://colab.research.google.com/github/joaozz21/BBC19JOAOHENRIQUE/blob/main/Tarefa8Jo%C3%A3oHenrique.ipynb\" target=\"_parent\"><img src=\"https://colab.research.google.com/assets/colab-badge.svg\" alt=\"Open In Colab\"/></a>"
      ]
    },
    {
      "cell_type": "markdown",
      "source": [
        "##João Henrique Alves de Oliveira"
      ],
      "metadata": {
        "id": "9V7UZmSDTvfE"
      }
    },
    {
      "cell_type": "markdown",
      "source": [
        "**1)** O índice de massa corporal (IMC) de uma pessoa é calculado por:\n",
        "    \n",
        "$$IMC = \\frac{m}{h^2} $$\n",
        "    \n",
        "em que $m$ é a massa corporal, em kg, e $h$ é a altura, em metros.\n",
        "\n",
        "O IMC tem a seguinte classificação:\n",
        "\n",
        "- menor que 17 kg/m$^2$ -- Muito abaixo do peso\t\n",
        "- 17 a 18,5 kg/m$^2$ -- Abaixo do peso\t\n",
        "- 18,5 a 25 kg/m$^2$ -- Peso normal\n",
        "- 25 a 30 kg/m$^2$ -- Acima do peso\t\n",
        "- 30 a 35 kg/m$^2$ -- Obesidade Grau I\t\n",
        "- 35 a 40 kg/m$^2$ -- Obesidade Grau II\t\n",
        "- maior que 40 kg/m$^2$ -- Obesidade Grau III\t\n",
        "\n",
        "Escreva um código em Python para calcular o IMC e mostrar a classificação do IMC. Teste para a) $m = 52$ kg e $h = 1,58$ m, b) $m = 83$ kg e $h = 1,75$ m, c) seu peso e altura."
      ],
      "metadata": {
        "id": "ZNEUEtxvVhNg"
      }
    },
    {
      "cell_type": "code",
      "source": [
        "#a)\n",
        "m= 52\n",
        "h= 1.58\n",
        "IMC=m/h**2\n",
        "print('O IMC calculado é de',IMC)\n",
        "\n",
        "if IMC<17: print('Muito abaixo do peso')\n",
        "elif IMC>17 and IMC<18.5: print('Abaixo do peso')\n",
        "elif IMC>18.5 and IMC<25: print('Peso normal')\n",
        "elif IMC>25 and IMC<30: print('Acima do peso')\n",
        "elif IMC>30 and IMC<35: print('Obesidade Grau I')\n",
        "elif IMC>35 and IMC<40: print('Obesidade Grau II')\n",
        "else: print('Obesidade Grau III')\n"
      ],
      "metadata": {
        "colab": {
          "base_uri": "https://localhost:8080/"
        },
        "id": "QEcW7XWjUIkX",
        "outputId": "8d91a4ea-03ae-4549-f415-3945152d9bf9"
      },
      "execution_count": null,
      "outputs": [
        {
          "output_type": "stream",
          "name": "stdout",
          "text": [
            "O IMC calculado é de 20.82999519307803\n",
            "Peso normal\n"
          ]
        }
      ]
    },
    {
      "cell_type": "code",
      "source": [
        "#b)\n",
        "m= 83\n",
        "h= 1.75\n",
        "IMC=m/h**2\n",
        "print('O IMC calculado é de',IMC)\n",
        "\n",
        "if IMC<17: print('Muito abaixo do peso')\n",
        "elif IMC>17 and IMC<18.5: print('Abaixo do peso')\n",
        "elif IMC>18.5 and IMC<25: print('Peso normal')\n",
        "elif IMC>25 and IMC<30: print('Acima do peso')\n",
        "elif IMC>30 and IMC<35: print('Obesidade Grau I')\n",
        "elif IMC>35 and IMC<40: print('Obesidade Grau II')\n",
        "else: print('Obesidade Grau III')"
      ],
      "metadata": {
        "colab": {
          "base_uri": "https://localhost:8080/"
        },
        "id": "uBh6PGn4Ynbj",
        "outputId": "901edbe0-f83d-4d4a-db7f-e4972d675a8f"
      },
      "execution_count": null,
      "outputs": [
        {
          "output_type": "stream",
          "name": "stdout",
          "text": [
            "O IMC calculado é de 27.102040816326532\n",
            "Acima do peso\n"
          ]
        }
      ]
    },
    {
      "cell_type": "code",
      "source": [
        "#c)\n",
        "m= 75\n",
        "h= 1.77\n",
        "IMC=m/h**2\n",
        "print('O IMC calculado é de',IMC)\n",
        "\n",
        "if IMC<17: print('Muito abaixo do peso')\n",
        "elif IMC>17 and IMC<18.5: print('Abaixo do peso')\n",
        "elif IMC>18.5 and IMC<25: print('Peso normal')\n",
        "elif IMC>25 and IMC<30: print('Acima do peso')\n",
        "elif IMC>30 and IMC<35: print('Obesidade Grau I')\n",
        "elif IMC>35 and IMC<40: print('Obesidade Grau II')\n",
        "else: print('Obesidade Grau III')"
      ],
      "metadata": {
        "colab": {
          "base_uri": "https://localhost:8080/"
        },
        "id": "YFQLglj_YxB-",
        "outputId": "cd222c44-bb06-424b-8bcb-cc8867c5a6f7"
      },
      "execution_count": null,
      "outputs": [
        {
          "output_type": "stream",
          "name": "stdout",
          "text": [
            "O IMC calculado é de 23.93948099205209\n",
            "Peso normal\n"
          ]
        }
      ]
    },
    {
      "cell_type": "markdown",
      "source": [
        "**2)** A acidez $A(x)$ de uma solução de hidróxido de magnésio em ácido clorídrico, sob certas condições experimentais, é dada pela equação:\n",
        "\n",
        "$$A(x) = x^3 + 3x^2 − 54$$\n",
        "na qual $x$ é a concentração de íons hidrônio. \n",
        "\n",
        "Pede-se:\n",
        "\n",
        "1) Gere o gráfico de $A(x)$ em função de $x$ para 0 $\\leqslant x \\leqslant 8$.\n",
        "\n",
        "2) Determine a concentração $x$ do íon de hidrônio que resulta em solução saturada (i.e., com acidez nula). Acrescente uma instrução que gere um ponto vermelho no gráfico correspondente à acidez nula da solução."
      ],
      "metadata": {
        "id": "VA3iYYfyY7HZ"
      }
    },
    {
      "cell_type": "code",
      "source": [
        "import numpy as np\n",
        "import matplotlib.pyplot as plt\n",
        "\n",
        "#1)\n",
        "x=np.arange(0,8.1,0.1)\n",
        "A= x**3+3*x**2-54\n",
        "print(x[A==0])\n",
        "\n",
        "plt.figure()\n",
        "plt.plot(x,A)\n",
        "plt.xlabel('x(íons de hidrônio)')\n",
        "plt.ylabel('A(x)')\n",
        "plt.title('Acidez')\n",
        "plt.grid()\n",
        "plt.show()\n",
        "\n",
        "#2)\n",
        "plt.figure()\n",
        "plt.plot(x,A)\n",
        "plt.plot(x[A==0],A[x==3],marker='.', color='red')\n",
        "plt.xlabel('x(íons de hidrônio)')\n",
        "plt.ylabel('A(x)')\n",
        "plt.title('Acidez')\n",
        "plt.grid()\n",
        "plt.show()\n"
      ],
      "metadata": {
        "colab": {
          "base_uri": "https://localhost:8080/",
          "height": 590
        },
        "id": "Lwa9Gs8DZMVB",
        "outputId": "ed9f6b0f-3a14-4b92-8a19-031b5337f804"
      },
      "execution_count": null,
      "outputs": [
        {
          "output_type": "stream",
          "name": "stdout",
          "text": [
            "[3.]\n"
          ]
        },
        {
          "output_type": "display_data",
          "data": {
            "text/plain": [
              "<Figure size 432x288 with 1 Axes>"
            ],
            "image/png": "[encoded data removed]"
          },
          "metadata": {
            "needs_background": "light"
          }
        },
        {
          "output_type": "display_data",
          "data": {
            "text/plain": [
              "<Figure size 432x288 with 1 Axes>"
            ],
            "image/png": "[encoded data removed]"
          },
          "metadata": {
            "needs_background": "light"
          }
        }
      ]
    },
    {
      "cell_type": "markdown",
      "source": [
        "**3)**  Faça o gráfico de:\n",
        "    $$f(x)=|x−2|+|2x+1|−x−6$$\n",
        "    \n",
        " Faça o gráfico com $x$ variando de -10 a 10.\n",
        " \n",
        " Mostre o menor valor de $x$ tal que $f(x)>0$ e $x>0$."
      ],
      "metadata": {
        "id": "QjAen6Ej2PGl"
      }
    },
    {
      "cell_type": "code",
      "source": [
        "import numpy as np\n",
        "import matplotlib.pyplot as plt\n",
        "\n",
        "x=np.arange(-10,10.1,1)\n",
        "f=np.abs(x-2)+np.abs(2*x+1)-x-6\n",
        "min = np.min(x[(x>0) & (f>0)])\n",
        "print('O x mínimo para quando x e f(x) forem maior que 0 é',min)\n",
        "\n",
        "plt.figure()\n",
        "plt.plot(x,f)\n",
        "plt.plot(min,f[x==4],marker='.', color='red')\n",
        "plt.xlabel('x')\n",
        "plt.ylabel('f(x)')\n",
        "plt.grid()\n",
        "plt.show()\n",
        "\n"
      ],
      "metadata": {
        "colab": {
          "base_uri": "https://localhost:8080/",
          "height": 296
        },
        "id": "F7xoyXGt2QzK",
        "outputId": "2170beef-dc46-4738-8551-e0d1134a284a"
      },
      "execution_count": 15,
      "outputs": [
        {
          "output_type": "stream",
          "name": "stdout",
          "text": [
            "O x mínimo para quando x e f(x) forem maior que 0 é 4.0\n"
          ]
        },
        {
          "output_type": "display_data",
          "data": {
            "text/plain": [
              "<Figure size 432x288 with 1 Axes>"
            ],
            "image/png": "[encoded data removed]"
          },
          "metadata": {
            "needs_background": "light"
          }
        }
      ]
    },
    {
      "cell_type": "markdown",
      "source": [
        "**4)** Faça o gráfico da seguinte função:\n",
        "\n",
        "$$f(x) = x^2 – \\mathrm{sen}(0.784x^2) – 2$$\n",
        "\n",
        "Mostre as raízes da função (i.e. os valores de $x$ para os quais $f(x) = 0$)."
      ],
      "metadata": {
        "id": "aIzossMU3wDQ"
      }
    },
    {
      "cell_type": "code",
      "source": [
        "import numpy as np\n",
        "import matplotlib.pyplot as plt\n",
        "\n",
        "x=np.arange(0,10,1)\n",
        "f=x**2-np.sin(0.784*x**2)-2\n",
        "print(x)\n",
        "print(f)\n",
        "\n",
        "plt.figure()\n",
        "plt.plot(x,f)\n",
        "plt.xlabel('x')\n",
        "plt.ylabel('f(x)')\n",
        "plt.grid()\n",
        "plt.show()\n",
        "\n"
      ],
      "metadata": {
        "colab": {
          "base_uri": "https://localhost:8080/",
          "height": 331
        },
        "id": "7ndDQKAs30Uh",
        "outputId": "9c61a9f9-547a-45a2-e496-04be91bbd2fc"
      },
      "execution_count": 16,
      "outputs": [
        {
          "output_type": "stream",
          "name": "stdout",
          "text": [
            "[0 1 2 3 4 5 6 7 8 9]\n",
            "[-2.         -1.70611744  1.99440738  6.30184682 14.02236875 22.31803638\n",
            " 33.94968737 46.34295802 62.08936309 78.37733264]\n"
          ]
        },
        {
          "output_type": "display_data",
          "data": {
            "text/plain": [
              "<Figure size 432x288 with 1 Axes>"
            ],
            "image/png": "[encoded data removed]"
          },
          "metadata": {
            "needs_background": "light"
          }
        }
      ]
    }
  ]
}