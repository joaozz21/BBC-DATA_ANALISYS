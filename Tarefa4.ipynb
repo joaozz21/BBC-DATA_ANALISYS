{
  "nbformat": 4,
  "nbformat_minor": 0,
  "metadata": {
    "colab": {
      "provenance": [],
      "authorship_tag": "ABX9TyPoCQsrRpVhC/xDWqFUcPLD",
      "include_colab_link": true
    },
    "kernelspec": {
      "name": "python3",
      "display_name": "Python 3"
    },
    "language_info": {
      "name": "python"
    }
  },
  "cells": [
    {
      "cell_type": "markdown",
      "metadata": {
        "id": "view-in-github",
        "colab_type": "text"
      },
      "source": [
        "<a href=\"https://colab.research.google.com/github/joaozz21/BBC19JOAOHENRIQUE/blob/main/Tarefa4.ipynb\" target=\"_parent\"><img src=\"https://colab.research.google.com/assets/colab-badge.svg\" alt=\"Open In Colab\"/></a>"
      ]
    },
    {
      "cell_type": "markdown",
      "source": [
        "##João Henrique Alves de Oliveira"
      ],
      "metadata": {
        "id": "V2QgYXqK-1rQ"
      }
    },
    {
      "cell_type": "markdown",
      "source": [
        "**1)** O volume de uma esfera com raio contida em uma variável $R$. \n",
        "\n",
        "\n",
        "Teste para a) $R = 0,32 $ m, b) $R = 1$ m, c) $R = 1,9$ m."
      ],
      "metadata": {
        "id": "E4Y7l8EZ-7Fw"
      }
    },
    {
      "cell_type": "code",
      "execution_count": 5,
      "metadata": {
        "colab": {
          "base_uri": "https://localhost:8080/"
        },
        "id": "3aFvqnHW-w2X",
        "outputId": "9f0af036-955e-433f-e688-91afcfa29169"
      },
      "outputs": [
        {
          "output_type": "stream",
          "name": "stdout",
          "text": [
            "O volume dessa esfera é de 0.14\n",
            "O volume dessa esfera é de 4.19\n",
            "O volume dessa esfera é de 28.73\n"
          ]
        }
      ],
      "source": [
        "import numpy as np \n",
        "#a)\n",
        "R=0.32\n",
        "V=4/3*np.pi*R**3\n",
        "print('O volume dessa esfera é de',round(V,2))\n",
        "\n",
        "#b)\n",
        "R=1\n",
        "V=4/3*np.pi*R**3\n",
        "print('O volume dessa esfera é de',round(V,2))\n",
        "\n",
        "#c)\n",
        "R=1.9\n",
        "V=4/3*np.pi*R**3\n",
        "print('O volume dessa esfera é de',round(V,2))"
      ]
    },
    {
      "cell_type": "markdown",
      "source": [
        "**2)** Temperatura em Fahrenheit dada a temperatura em Celsius contida em uma variavel $T_c$. \n",
        "\n",
        "Teste para a) $T_c = -10 ^\\circ C$  , b) $T_c = 30^\\circ C$ , c) $T_c = 5^\\circ C$ "
      ],
      "metadata": {
        "id": "yhvNlg8m--LI"
      }
    },
    {
      "cell_type": "code",
      "source": [
        "import numpy as np\n",
        "#a)\n",
        "Tc=-10\n",
        "Tf=9/5*Tc+32\n",
        "print(int(Tf))\n",
        "\n",
        "#b)\n",
        "Tc=30\n",
        "Tf=9/5*Tc+32\n",
        "print(int(Tf))\n",
        "\n",
        "#c)\n",
        "Tc=5\n",
        "Tf=9/5*Tc+32\n",
        "print(int(Tf))"
      ],
      "metadata": {
        "colab": {
          "base_uri": "https://localhost:8080/"
        },
        "id": "JDTawQrvBMdq",
        "outputId": "4f9bc6b8-5e42-4829-a52a-b862219fa99e"
      },
      "execution_count": 9,
      "outputs": [
        {
          "output_type": "stream",
          "name": "stdout",
          "text": [
            "14\n",
            "86\n",
            "41\n"
          ]
        }
      ]
    },
    {
      "cell_type": "markdown",
      "source": [
        "**3)** O tamanho do lado $c$ de um triângulo com lados $a, b$ e  ângulo $\\theta$ entre os lados $a$ e $b$ conhecidos. $a$, $b$ e $\\theta$ devem estar gravadas em variáveis. A expressão para isso é conhecida como lei dos cossenos:\n",
        "\n",
        "$$c = \\sqrt{a^2+b^2-2ab\\cos(\\theta)} $$\n",
        "\n",
        "Teste para a) $a = 1$, $b = 2$ e $\\theta = 30^\\circ$, b) $a = 3$, $b = 1$ e $\\theta = 45^\\circ$, c) $a = 10$, $b = 11$ e $\\theta = 15^\\circ$"
      ],
      "metadata": {
        "id": "D7YvcbUk_Ebw"
      }
    },
    {
      "cell_type": "code",
      "source": [
        "import numpy as np\n",
        "#a)\n",
        "a=1\n",
        "b=2\n",
        "ang=30\n",
        "\n",
        "c=np."
      ],
      "metadata": {
        "id": "tAQGNSDSCuzC"
      },
      "execution_count": null,
      "outputs": []
    },
    {
      "cell_type": "markdown",
      "source": [
        "**4)** A série de Fibonacci é uma sequência de números inteiros em que cada número da série é a soma dos dois números anteriores:\n",
        "\n",
        "$0,1,1,2,3,5,8,13,21,34,55,... $\n",
        "\n",
        "O i-ésimo número pode ser aproximado pela seguinte expressão:\n",
        "\n",
        "$$ F_i = \\Bigg\\lfloor\\frac{\\left(\\frac{1+\\sqrt{5}}{2} \\right)^i- \\left(\\frac{1-\\sqrt{5}}{2} \\right)^i}{\\sqrt{5}} \\Bigg\\rfloor $$\n",
        "\n",
        "Na expressão acima o símbolo $\\lfloor .\\rfloor$ representa a função piso.\n",
        "\n",
        "Teste para a) $i$ = 30, b) $i$= 31 e c) $i$ = 32."
      ],
      "metadata": {
        "id": "j0jGQQCx_Jxo"
      }
    }
  ]
}