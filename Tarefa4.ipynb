{
  "nbformat": 4,
  "nbformat_minor": 0,
  "metadata": {
    "colab": {
      "provenance": [],
      "authorship_tag": "ABX9TyPogbsALq33joAT5YQMAC6Q",
      "include_colab_link": true
    },
    "kernelspec": {
      "name": "python3",
      "display_name": "Python 3"
    },
    "language_info": {
      "name": "python"
    }
  },
  "cells": [
    {
      "cell_type": "markdown",
      "metadata": {
        "id": "view-in-github",
        "colab_type": "text"
      },
      "source": [
        "<a href=\"https://colab.research.google.com/github/joaozz21/BBC19JOAOHENRIQUE/blob/main/Tarefa4.ipynb\" target=\"_parent\"><img src=\"https://colab.research.google.com/assets/colab-badge.svg\" alt=\"Open In Colab\"/></a>"
      ]
    },
    {
      "cell_type": "markdown",
      "source": [
        "##João Henrique Alves de Oliveira"
      ],
      "metadata": {
        "id": "V2QgYXqK-1rQ"
      }
    },
    {
      "cell_type": "markdown",
      "source": [
        "**1)** O volume de uma esfera com raio contida em uma variável $R$. \n",
        "\n",
        "\n",
        "Teste para a) $R = 0,32 $ m, b) $R = 1$ m, c) $R = 1,9$ m."
      ],
      "metadata": {
        "id": "E4Y7l8EZ-7Fw"
      }
    },
    {
      "cell_type": "code",
      "execution_count": null,
      "metadata": {
        "colab": {
          "base_uri": "https://localhost:8080/"
        },
        "id": "3aFvqnHW-w2X",
        "outputId": "9f0af036-955e-433f-e688-91afcfa29169"
      },
      "outputs": [
        {
          "output_type": "stream",
          "name": "stdout",
          "text": [
            "O volume dessa esfera é de 0.14\n",
            "O volume dessa esfera é de 4.19\n",
            "O volume dessa esfera é de 28.73\n"
          ]
        }
      ],
      "source": [
        "import numpy as np \n",
        "#a)\n",
        "R=0.32\n",
        "V=4/3*np.pi*R**3\n",
        "print('O volume dessa esfera é de',round(V,2))\n",
        "\n",
        "#b)\n",
        "R=1\n",
        "V=4/3*np.pi*R**3\n",
        "print('O volume dessa esfera é de',round(V,2))\n",
        "\n",
        "#c)\n",
        "R=1.9\n",
        "V=4/3*np.pi*R**3\n",
        "print('O volume dessa esfera é de',round(V,2))"
      ]
    },
    {
      "cell_type": "markdown",
      "source": [
        "**2)** Temperatura em Fahrenheit dada a temperatura em Celsius contida em uma variavel $T_c$. \n",
        "\n",
        "Teste para a) $T_c = -10 ^\\circ C$  , b) $T_c = 30^\\circ C$ , c) $T_c = 5^\\circ C$ "
      ],
      "metadata": {
        "id": "yhvNlg8m--LI"
      }
    },
    {
      "cell_type": "code",
      "source": [
        "import numpy as np\n",
        "#a)\n",
        "Tc=-10\n",
        "Tf=9/5*Tc+32\n",
        "print('A temperatura dada em Celsius',Tc,'°C, convertida para Fahrenheit é igual a', int(Tf),'°F')\n",
        "\n",
        "#b)\n",
        "Tc=30\n",
        "Tf=9/5*Tc+32\n",
        "print('A temperatura dada em Celsius',Tc,'°C, convertida para Fahrenheit é igual a', int(Tf),'°F')\n",
        "\n",
        "#c)\n",
        "Tc=5\n",
        "Tf=9/5*Tc+32\n",
        "print('A temperatura dada em Celsius',Tc,'°C, convertida para Fahrenheit é igual a', int(Tf),'°F')"
      ],
      "metadata": {
        "colab": {
          "base_uri": "https://localhost:8080/"
        },
        "id": "JDTawQrvBMdq",
        "outputId": "881e659d-a91b-45fa-9e5b-f6b219b29f19"
      },
      "execution_count": 6,
      "outputs": [
        {
          "output_type": "stream",
          "name": "stdout",
          "text": [
            "A temperatura dada em Celsius -10 °C, convertida para Fahrenheit é igual a 14 °F\n",
            "A temperatura dada em Celsius 30 °C, convertida para Fahrenheit é igual a 86 °F\n",
            "A temperatura dada em Celsius 5 °C, convertida para Fahrenheit é igual a 41 °F\n"
          ]
        }
      ]
    },
    {
      "cell_type": "markdown",
      "source": [
        "**3)** O tamanho do lado $c$ de um triângulo com lados $a, b$ e  ângulo $\\theta$ entre os lados $a$ e $b$ conhecidos. $a$, $b$ e $\\theta$ devem estar gravadas em variáveis. A expressão para isso é conhecida como lei dos cossenos:\n",
        "\n",
        "$$c = \\sqrt{a^2+b^2-2ab\\cos(\\theta)} $$\n",
        "\n",
        "Teste para a) $a = 1$, $b = 2$ e $\\theta = 30^\\circ$, b) $a = 3$, $b = 1$ e $\\theta = 45^\\circ$, c) $a = 10$, $b = 11$ e $\\theta = 15^\\circ$"
      ],
      "metadata": {
        "id": "D7YvcbUk_Ebw"
      }
    },
    {
      "cell_type": "code",
      "source": [
        "import numpy as np\n",
        "#a)\n",
        "a=1\n",
        "b=2\n",
        "ang=30\n",
        "\n",
        "c=(a**2+b**2-2*a*b*np.cos(ang))**0.5\n",
        "print('O tamanho do lado c desse triângulo é de', round(c,2))\n",
        "\n",
        "#b)\n",
        "a=3\n",
        "b=1\n",
        "ang=45\n",
        "\n",
        "c=(a**2+b**2-2*a*b*np.cos(ang))**0.5\n",
        "print('O tamanho do lado c desse triângulo é de', round(c,2))\n",
        "\n",
        "#c)\n",
        "a=10\n",
        "b=11\n",
        "ang=15\n",
        "\n",
        "c=(a**2+b**2-2*a*b*np.cos(ang))**0.5\n",
        "print('O tamanho do lado c desse triângulo é de', round(c,2))\n"
      ],
      "metadata": {
        "id": "tAQGNSDSCuzC",
        "outputId": "cfc09e69-3d7a-41e4-f30f-72a20e4a88d4",
        "colab": {
          "base_uri": "https://localhost:8080/"
        }
      },
      "execution_count": 15,
      "outputs": [
        {
          "output_type": "stream",
          "name": "stdout",
          "text": [
            "O tamanho do lado c desse triângulo é de 2.09\n",
            "O tamanho do lado c desse triângulo é de 2.62\n",
            "O tamanho do lado c desse triângulo é de 19.7\n"
          ]
        }
      ]
    },
    {
      "cell_type": "markdown",
      "source": [
        "**4)** A série de Fibonacci é uma sequência de números inteiros em que cada número da série é a soma dos dois números anteriores:\n",
        "\n",
        "$0,1,1,2,3,5,8,13,21,34,55,... $\n",
        "\n",
        "O i-ésimo número pode ser aproximado pela seguinte expressão:\n",
        "\n",
        "$$ F_i = \\Bigg\\lfloor\\frac{\\left(\\frac{1+\\sqrt{5}}{2} \\right)^i- \\left(\\frac{1-\\sqrt{5}}{2} \\right)^i}{\\sqrt{5}} \\Bigg\\rfloor $$\n",
        "\n",
        "Na expressão acima o símbolo $\\lfloor .\\rfloor$ representa a função piso.\n",
        "\n",
        "Teste para a) $i$ = 30, b) $i$= 31 e c) $i$ = 32."
      ],
      "metadata": {
        "id": "j0jGQQCx_Jxo"
      }
    },
    {
      "cell_type": "code",
      "source": [
        "import numpy as np\n",
        "\n",
        "#a)\n",
        "i=30\n",
        "\n",
        "Fi=np.floor((1+5**0.5/2)**i-(1-5**0.5/2)**i/5**0.5)\n",
        "print('O i-ésimo número é o',int(Fi))\n",
        "\n",
        "#b)\n",
        "i=31\n",
        "\n",
        "Fi=np.floor((1+5**0.5/2)**i-(1-5**0.5/2)**i/5**0.5)\n",
        "print('O i-ésimo número é o',int(Fi))\n",
        "\n",
        "#c)\n",
        "i=32\n",
        "\n",
        "Fi=np.floor((1+5**0.5/2)**i-(1-5**0.5/2)**i/5**0.5)\n",
        "print('O i-ésimo número é o',int(Fi))"
      ],
      "metadata": {
        "id": "sRYg367ehcm-",
        "outputId": "cfe5a397-53ed-444b-fc8d-e66b1a5ba29b",
        "colab": {
          "base_uri": "https://localhost:8080/"
        }
      },
      "execution_count": 21,
      "outputs": [
        {
          "output_type": "stream",
          "name": "stdout",
          "text": [
            "O i-ésimo número é o 5997741619\n",
            "O i-ésimo número é o 12703420605\n",
            "O i-ésimo número é o 26906276616\n"
          ]
        }
      ]
    }
  ]
}