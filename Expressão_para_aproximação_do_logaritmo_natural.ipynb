{
  "nbformat": 4,
  "nbformat_minor": 0,
  "metadata": {
    "colab": {
      "provenance": [],
      "authorship_tag": "ABX9TyNFa9uo9VZ1sJ8Mnv6xTBU9",
      "include_colab_link": true
    },
    "kernelspec": {
      "name": "python3",
      "display_name": "Python 3"
    },
    "language_info": {
      "name": "python"
    }
  },
  "cells": [
    {
      "cell_type": "markdown",
      "metadata": {
        "id": "view-in-github",
        "colab_type": "text"
      },
      "source": [
        "<a href=\"https://colab.research.google.com/github/joaozz21/Projetos_de_Estudo/blob/main/Express%C3%A3o_para_aproxima%C3%A7%C3%A3o_do_logaritmo_natural.ipynb\" target=\"_parent\"><img src=\"https://colab.research.google.com/assets/colab-badge.svg\" alt=\"Open In Colab\"/></a>"
      ]
    },
    {
      "cell_type": "markdown",
      "source": [
        "# João Henrique Alves de Oliveira"
      ],
      "metadata": {
        "id": "7gwbKlR6to66"
      }
    },
    {
      "cell_type": "markdown",
      "source": [
        "O valor de $\\ln(1+x)$ pode ser aproximado por (apenas para $|x|<1$):\n",
        "\n",
        "$\\ln(1+x) = x - \\frac{x^2}{2} + \\frac{x^3}{3} ... = \\displaystyle\\sum_{i=1}^n (-1)^{i+1}\\frac{x^i}{i} $\n",
        "\n",
        "$\\ln$ é o logaritmo na base $e$ (conhecido como logaritmo natural).\n",
        "\n",
        "Use a expressão acima com n = 100 para encontrar $\\ln(0.5)$.\n",
        "\n",
        "Compare o resultado com a função do Numpy `np.log(0.5)`."
      ],
      "metadata": {
        "id": "NQvlBMw1txxg"
      }
    },
    {
      "cell_type": "code",
      "execution_count": 1,
      "metadata": {
        "colab": {
          "base_uri": "https://localhost:8080/"
        },
        "id": "HDYA4caVtjC-",
        "outputId": "05a8aabc-e0dc-484d-89da-2d057e9efa64"
      },
      "outputs": [
        {
          "output_type": "stream",
          "name": "stdout",
          "text": [
            "Utilizando a fórmula: -0.6931471805599451\n",
            "Utilizando Numpy: -0.6931471805599453\n"
          ]
        }
      ],
      "source": [
        "import numpy as np\n",
        "\n",
        "i=1\n",
        "somatorio = 0\n",
        "\n",
        "while i <= 100:\n",
        "  somatorio += (-1**(i+1))*((0.5**i)/i)\n",
        "  i += 1\n",
        "\n",
        "print(f'Utilizando a fórmula: {somatorio}')\n",
        "print(f'Utilizando Numpy: {np.log(0.5)}')"
      ]
    }
  ]
}