{
  "nbformat": 4,
  "nbformat_minor": 0,
  "metadata": {
    "colab": {
      "provenance": [],
      "authorship_tag": "ABX9TyPPupd89C6zdZcMXfIguv2l",
      "include_colab_link": true
    },
    "kernelspec": {
      "name": "python3",
      "display_name": "Python 3"
    },
    "language_info": {
      "name": "python"
    }
  },
  "cells": [
    {
      "cell_type": "markdown",
      "metadata": {
        "id": "view-in-github",
        "colab_type": "text"
      },
      "source": [
        "<a href=\"https://colab.research.google.com/github/joaozz21/BBC19JOAOHENRIQUE/blob/main/Tarefa13Jo%C3%A3oHenrique.ipynb\" target=\"_parent\"><img src=\"https://colab.research.google.com/assets/colab-badge.svg\" alt=\"Open In Colab\"/></a>"
      ]
    },
    {
      "cell_type": "markdown",
      "source": [
        "##João Henrique Alves de Oliveira "
      ],
      "metadata": {
        "id": "J_O0mlEdlT8T"
      }
    },
    {
      "cell_type": "markdown",
      "source": [
        "**1)** Para este item você deverá usar o arquivo [com todos os resultados do campeonato Brasileiro de futebol de 2018 (tabelaBrasileirao2018.csv encontrado na pasta aula7/dados)](dados/tabelaBrasileirao2018.csv) (dados obtidos [desta](<https://pt.wikipedia.org/wiki/Resultados_do_Campeonato_Brasileiro_de_Futebol_de_2018_-_S%C3%A9rie_A_(primeiro_turno)>) e [desta](<https://pt.wikipedia.org/wiki/Resultados_do_Campeonato_Brasileiro_de_Futebol_de_2018_-_S%C3%A9rie_A_(segundo_turno)>) página da Wikipedia).\n",
        "\n",
        "\n",
        "- Escolha um time e faça o histograma da distribuição do público nos jogos em que este time foi o mandante.\n",
        "\n",
        "- Calcule qual foi o público médio nos jogos em que o time escolhido foi o mandante."
      ],
      "metadata": {
        "id": "lVU_55JBpj-W"
      }
    },
    {
      "cell_type": "code",
      "execution_count": 36,
      "metadata": {
        "colab": {
          "base_uri": "https://localhost:8080/",
          "height": 315
        },
        "id": "Anb8DYFGlS2F",
        "outputId": "fc6ed75e-cd6a-4701-e93a-fd74e2d15c07"
      },
      "outputs": [
        {
          "output_type": "display_data",
          "data": {
            "text/plain": [
              "<Figure size 432x288 with 1 Axes>"
            ],
            "image/png": "[encoded data removed]"
          },
          "metadata": {
            "needs_background": "light"
          }
        },
        {
          "output_type": "stream",
          "name": "stdout",
          "text": [
            "\n",
            "O público médio nos jogos em que o São Paulo foi o mandante é 34320.95\n"
          ]
        }
      ],
      "source": [
        "import numpy as np\n",
        "import pandas as pd\n",
        "import matplotlib.pyplot as plt\n",
        "\n",
        "tabela = pd.read_csv(\"https://raw.githubusercontent.com/BMClab/BasesComputacionais/master/dados/tabelaBrasileirao2018.csv\")\n",
        "saopaulo= tabela.query('Mandante == \"São Paulo\"')\n",
        "\n",
        "#a)\n",
        "plt.figure()\n",
        "saopaulo['Público'].hist(bins=np.arange(0, 65000, 5500))\n",
        "plt.xlabel('Público nos jogos em que o São Paulo foi o mandante')\n",
        "plt.grid()\n",
        "plt.show()\n",
        "\n",
        "#b)\n",
        "print('\\nO público médio nos jogos em que o São Paulo foi o mandante é',round(saopaulo['Público'].mean(),2))"
      ]
    }
  ]
}