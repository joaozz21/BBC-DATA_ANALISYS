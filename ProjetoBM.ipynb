{
  "nbformat": 4,
  "nbformat_minor": 0,
  "metadata": {
    "colab": {
      "provenance": [],
      "mount_file_id": "16RC7Xnu-Q_Wv8sYaL3lJajtdOBG1E_rX",
      "authorship_tag": "ABX9TyN6xJiKl9Y4y/3p3LbuwUJj",
      "include_colab_link": true
    },
    "kernelspec": {
      "name": "python3",
      "display_name": "Python 3"
    },
    "language_info": {
      "name": "python"
    }
  },
  "cells": [
    {
      "cell_type": "markdown",
      "metadata": {
        "id": "view-in-github",
        "colab_type": "text"
      },
      "source": [
        "<a href=\"https://colab.research.google.com/github/joaozz21/BBC19JOAOHENRIQUE/blob/main/ProjetoBM.ipynb\" target=\"_parent\"><img src=\"https://colab.research.google.com/assets/colab-badge.svg\" alt=\"Open In Colab\"/></a>"
      ]
    },
    {
      "cell_type": "code",
      "execution_count": null,
      "metadata": {
        "colab": {
          "base_uri": "https://localhost:8080/"
        },
        "id": "J0B11yx37Tvq",
        "outputId": "6831ab82-72ed-4d32-e6d8-228e2a169293"
      },
      "outputs": [
        {
          "output_type": "stream",
          "name": "stdout",
          "text": [
            " ____________CALCULADORA____________\n",
            " 1 soma + \n",
            " 2 subtração - \n",
            " 3 divisão / \n",
            " 4 multiplicação * \n",
            " 5 elevado ^ \n",
            " 6 raiz V \n",
            "\n",
            "Escolha o número da operação desejada:\n",
            "6\n",
            "\n",
            "Digite o número:\n",
            "10\n",
            "\n",
            "O resultado é: 3.1622776601683795 \n",
            "\n",
            " ____________CALCULADORA____________\n",
            " 1 soma + \n",
            " 2 subtração - \n",
            " 3 divisão / \n",
            " 4 multiplicação * \n",
            " 5 elevado ^ \n",
            " 6 raiz V \n",
            "\n",
            "Escolha o número da operação desejada:\n"
          ]
        }
      ],
      "source": [
        "import numpy as np\n",
        "\n",
        "def soma(x,y):\n",
        "  sum= x+y\n",
        "  print('\\nO resultado é:',sum,'\\n')\n",
        "\n",
        "def sub(x,y):\n",
        "  sub= x-y\n",
        "  print('\\nO resultado é:',sub,'\\n')\n",
        "\n",
        "def div(x,y):\n",
        "  div= x/y\n",
        "  print('\\nO resultado é:',div,'\\n')\n",
        "\n",
        "def mult(x,y):\n",
        "  mult= x*y\n",
        "  print('\\nO resultado é:',mult,'\\n')\n",
        "\n",
        "def elev(x,y):\n",
        "  elev= x**y\n",
        "  print('\\nO resultado é:',elev,'\\n')\n",
        "\n",
        "\n",
        "def raiz(x):\n",
        "  raiz= x**0.5\n",
        "  print('\\nO resultado é:',raiz,'\\n')\n",
        "\n",
        "sum='soma +'\n",
        "men='subtração -'\n",
        "divi='divisão /'\n",
        "multi='multiplicação *'\n",
        "eleva='elevado ^'\n",
        "raizq='raiz V'\n",
        "\n",
        "while(True):\n",
        "  print(' ____________CALCULADORA____________\\n',1,sum,'\\n',2,men,'\\n',3,divi,'\\n',4,multi,'\\n',5,eleva,'\\n',6,raizq,'\\n\\nEscolha o número da operação desejada:')\n",
        "  escolha=int(input())\n",
        "\n",
        "  if escolha == 1:\n",
        "    print('\\nDigite o 1º número:')\n",
        "    x=int(input())\n",
        "    print('\\nDigite o 2° número:')\n",
        "    y=int(input())\n",
        "    soma(x,y)\n",
        "  elif escolha == 2:\n",
        "    print('\\nDigite o 1º número:')\n",
        "    x=int(input())\n",
        "    print('\\nDigite o 2° número:')\n",
        "    y=int(input())\n",
        "    sub(x,y)\n",
        "  elif escolha == 3:\n",
        "    print('\\nDigite o 1º número:')\n",
        "    x=int(input())\n",
        "    print('\\nDigite o 2° número:')\n",
        "    y=int(input())\n",
        "    div(x,y)\n",
        "  elif escolha == 4:\n",
        "    print('\\nDigite o 1º número:')\n",
        "    x=int(input())\n",
        "    print('\\nDigite o 2° número:')\n",
        "    y=int(input())\n",
        "    mult(x,y)\n",
        "  elif escolha == 5:\n",
        "    print('\\nDigite o 1º número:')\n",
        "    x=int(input())\n",
        "    print('\\nDigite o 2° número:')\n",
        "    y=int(input())\n",
        "    elev(x,y)\n",
        "  elif escolha == 6:\n",
        "    print('\\nDigite o número:')\n",
        "    x=int(input())\n",
        "    raiz(x)\n",
        "  else:\n",
        "    print('\\nNão pudemos reconhecer o valor, tente novamente!\\n')\n",
        "\n"
      ]
    }
  ]
}