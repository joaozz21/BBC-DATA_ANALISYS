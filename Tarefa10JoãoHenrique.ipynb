{
  "nbformat": 4,
  "nbformat_minor": 0,
  "metadata": {
    "colab": {
      "provenance": [],
      "authorship_tag": "ABX9TyPUbomf3i578CcqFTNES3FP",
      "include_colab_link": true
    },
    "kernelspec": {
      "name": "python3",
      "display_name": "Python 3"
    },
    "language_info": {
      "name": "python"
    }
  },
  "cells": [
    {
      "cell_type": "markdown",
      "metadata": {
        "id": "view-in-github",
        "colab_type": "text"
      },
      "source": [
        "<a href=\"https://colab.research.google.com/github/joaozz21/BBC19JOAOHENRIQUE/blob/main/Tarefa10Jo%C3%A3oHenrique.ipynb\" target=\"_parent\"><img src=\"https://colab.research.google.com/assets/colab-badge.svg\" alt=\"Open In Colab\"/></a>"
      ]
    },
    {
      "cell_type": "markdown",
      "source": [
        "##João Henrique Alves de Oliveira "
      ],
      "metadata": {
        "id": "hCYo8v6QetcG"
      }
    },
    {
      "cell_type": "markdown",
      "source": [
        "**1)** Para este item você deverá usar o arquivo [com todos os resultados do campeonato Brasileiro de futebol de 2018 (tabelaBrasileirao2018.csv encontrado na pasta aula5/dados)](https://raw.githubusercontent.com/BMClab/BasesComputacionais/master/dados/tabelaBrasileirao2018.csv) (dados obtidos [desta](<https://pt.wikipedia.org/wiki/Resultados_do_Campeonato_Brasileiro_de_Futebol_de_2018_-_S%C3%A9rie_A_(primeiro_turno)>) e [desta](<https://pt.wikipedia.org/wiki/Resultados_do_Campeonato_Brasileiro_de_Futebol_de_2018_-_S%C3%A9rie_A_(segundo_turno)>) página da Wikipedia).\n",
        "\n",
        "- Calcule (e mostre o resultado) a porcentagem de jogos que o time da casa (mandante) ganhou o jogo.\n",
        "\n",
        "- Calcule (e mostre o resultado) a porcentagem de jogos que o time da casa (mandante) não perdeu o jogo."
      ],
      "metadata": {
        "id": "fZ5z-oYOe4BC"
      }
    },
    {
      "cell_type": "code",
      "source": [
        "from pandas.core.base import value_counts\n",
        "import pandas as pd\n",
        "import numpy as np\n",
        "\n",
        "#a)\n",
        "brasileirao = pd.read_csv('https://raw.githubusercontent.com/BMClab/BasesComputacionais/master/dados/tabelaBrasileirao2018.csv')\n",
        "brasileirao['Mandante Venceu'] = brasileirao['Placar do Mandante']>brasileirao['Placar do Visitante']\n",
        "mandante=brasileirao['Mandante Venceu'].value_counts()\n",
        "forma = brasileirao.shape\n",
        "porcentagem= (mandante[True]*100)/forma[0]\n",
        "\n",
        "print('A porcentagem de jogos em que o time da casa ganhou foi de',porcentagem,'%')"
      ],
      "metadata": {
        "colab": {
          "base_uri": "https://localhost:8080/"
        },
        "id": "eNwd1bOne3tK",
        "outputId": "7d0a9d1f-1c53-4f44-9f00-fd6d78d632d7"
      },
      "execution_count": 61,
      "outputs": [
        {
          "output_type": "stream",
          "name": "stdout",
          "text": [
            "A porcentagem de jogos em que o time da casa ganhou foi de 53.1578947368421 %\n"
          ]
        }
      ]
    },
    {
      "cell_type": "code",
      "source": [
        "import pandas as pd\n",
        "import numpy as np\n",
        "\n",
        "#b)\n",
        "brasileirao = pd.read_csv('https://raw.githubusercontent.com/BMClab/BasesComputacionais/master/dados/tabelaBrasileirao2018.csv')\n",
        "brasileirao['Mandante n perdeu'] = brasileirao['Placar do Mandante']>=brasileirao['Placar do Visitante']\n",
        "mandante=brasileirao['Mandante n perdeu'].value_counts()\n",
        "forma = brasileirao.shape\n",
        "porcentagem = (mandante[True]*100)/forma[0]\n",
        "\n",
        "print('A porcentagem de jogos em que o time da casa não perdeu foi de',porcentagem,'%')"
      ],
      "metadata": {
        "colab": {
          "base_uri": "https://localhost:8080/"
        },
        "id": "ATcE8A1-rWsz",
        "outputId": "2e3331aa-d48c-44fe-f0f7-257dd1b69ee0"
      },
      "execution_count": 64,
      "outputs": [
        {
          "output_type": "stream",
          "name": "stdout",
          "text": [
            "A porcentagem de jogos em que o time da casa não perdeu foi de 82.10526315789474 %\n"
          ]
        }
      ]
    },
    {
      "cell_type": "markdown",
      "source": [
        "**2)**  Para este item você deverá usar o arquivo com a [taxa de inflação mensal (IGP-DI) no Brasil de fevereiro de 1944 a junho de 2019](https://raw.githubusercontent.com/BMClab/BasesComputacionais/master/dados/inflacaoMensal.csv) (dados disponibilizados por Ipeadata). \n",
        "\n",
        "- Faça um gráfico da taxa de inflação mensal em função do tempo.\n",
        "- Mostre em que mês e ano e qual foi a maior taxa de inflação mensal medida neste período (fevereiro de 1944 a junho de 2019).\n",
        "\n",
        "Dica: para fazer o gráfico, note que um mês corresponde a um doze avos de ano. Para facilitar a criação do gráfico você pode criar uma outra coluna que corresponda ao ano adicionado da fração correspondente ao mês."
      ],
      "metadata": {
        "id": "wetvWTZJ6l6-"
      }
    },
    {
      "cell_type": "code",
      "source": [
        "import pandas as pd\n",
        "import numpy as np\n",
        "import matplotlib.pyplot as plt\n",
        "\n",
        "#a)\n",
        "tabela= pd.read_csv('https://raw.githubusercontent.com/BMClab/BasesComputacionais/master/dados/inflacaoMensal.csv')\n",
        "tabela['Ano+Mês'] = tabela['Ano']+tabela['Mês']/12\n",
        "ano=tabela['Ano+Mês']\n",
        "inflacao= tabela['Inflação']\n",
        "max=inflacao.max()\n",
        "\n",
        "#b)\n",
        "plt.figure()\n",
        "plt.plot(ano,inflacao)\n",
        "plt.plot(ano[inflacao==max],max, marker = '.', color = 'red')\n",
        "plt.grid()\n",
        "plt.xlabel('Tempo')\n",
        "plt.ylabel('Taxa de inflação')\n",
        "plt.show()"
      ],
      "metadata": {
        "colab": {
          "base_uri": "https://localhost:8080/",
          "height": 279
        },
        "id": "sCzcSbbG6uho",
        "outputId": "ae0bc010-c136-4dd1-f282-04da0c79e497"
      },
      "execution_count": 97,
      "outputs": [
        {
          "output_type": "display_data",
          "data": {
            "text/plain": [
              "<Figure size 432x288 with 1 Axes>"
            ],
            "image/png": "[encoded data removed]"
          },
          "metadata": {
            "needs_background": "light"
          }
        }
      ]
    },
    {
      "cell_type": "markdown",
      "source": [
        "**3)** Para este item você pode usar [esse histórico de visualização do Netflix](https://raw.githubusercontent.com/BMClab/BasesComputacionais/master/dados/netflix.csv) ou, se você tiver acesso ao Netflix, usar o seu [histórico](https://www.netflix.com/viewingactivity) (após entrar com a sua senha, role até o final da página e clique em \"Baixar tudo\").\n",
        "\n",
        "   + Mostre quais são os 10 programas mais vistos.\n",
        "   + Em qual mês do ano foi assistido mais programas? \n",
        "    \n",
        "Sugestão: No seu notebook, depois do comando para carregar o arquivo, coloque a seguinte sequência de instruções:\n",
        "\n",
        "```python\n",
        "data['Categoria'] = 'Filme'  \n",
        "data['Categoria'][data['Title'].str.contains(\": Temporada|: Stranger|: Parte\")] = 'Série'  \n",
        "data['Programa'] = data['Title']  \n",
        "data[['Programa','Episódio']] = data[data['Categoria']=='Série']['Title'].str.split(pat = ': Temporada|: Stranger Things|: Parte', expand = True, n = 1)   \n",
        "data.loc[data['Categoria']=='Filme', 'Programa'] = data.loc[data['Categoria']=='Filme', 'Title']  \n",
        "data = data.drop(columns = 'Title')  \n",
        "```\n",
        "A sequência de instruções acima cria uma coluna com o tipo do programa (Filme/Série), uma coluna com o nome do programa e uma outra coluna com o nome do episódio (no caso de ser uma série). Isso facilitará realizar a tarefa.\n",
        "\n",
        "Na sequência acima, *data* é o nome da variável na qual foi guardado o DataFrame com a informação vinda do arquivo de histórico. Se você der outro nome, mude o nome da variável no código acima. \n",
        "\n",
        "Pode ser que o seu arquivo esteja em português. Nesse caso, o campo 'Title' terá o nome 'Título' e você deverá alterar o código acima substituindo 'Title' por 'Título'."
      ],
      "metadata": {
        "id": "pUdDhq_2MdlG"
      }
    },
    {
      "cell_type": "code",
      "source": [
        "import pandas as pd\n",
        "import numpy as np\n",
        "\n",
        "#a)\n",
        "data = pd.read_csv('https://raw.githubusercontent.com/BMClab/BasesComputacionais/master/dados/netflix.csv')\n",
        "data['Categoria'] = 'Filme'  \n",
        "data['Categoria'][data['Title'].str.contains(\": Temporada|: Stranger|: Parte\")] = 'Série'  \n",
        "data['Programa'] = data['Title']  \n",
        "data[['Programa','Episódio']] = data[data['Categoria']=='Série']['Title'].str.split(pat = ': Temporada|: Stranger Things|: Parte', expand = True, n = 1)   \n",
        "data.loc[data['Categoria']=='Filme', 'Programa'] = data.loc[data['Categoria']=='Filme', 'Title']  \n",
        "data = data.drop(columns = 'Title')  \n",
        "\n",
        "maisvistos=data['Programa'].value_counts()\n",
        "print('Os 10 Programas mais vistos foram:\\n',maisvistos.head(10))\n",
        "\n",
        "#b)\n",
        "data['Date'] = pd.to_datetime(data['Date'], format = '%d/%m/%Y')\n",
        "\n"
      ],
      "metadata": {
        "colab": {
          "base_uri": "https://localhost:8080/"
        },
        "id": "b7KTC9N9NnNE",
        "outputId": "1c3ec022-18f5-4355-ef33-e4e565ee3ed4"
      },
      "execution_count": 158,
      "outputs": [
        {
          "output_type": "stream",
          "name": "stdout",
          "text": [
            "Os 10 Programas mais vistos foram:\n",
            " House of Cards                           73\n",
            "Jornada nas Estrelas: A nova geração     64\n",
            "Star Trek: Enterprise                    63\n",
            "Jornada nas Estrelas: Deep Space Nine    46\n",
            "Star Trek: Discovery                     42\n",
            "Jornada nas estrelas                     34\n",
            "The Crown                                32\n",
            "Cobra Kai                                30\n",
            "Aggretsuko                               28\n",
            "Downton Abbey                            25\n",
            "Name: Programa, dtype: int64\n"
          ]
        }
      ]
    },
    {
      "cell_type": "markdown",
      "source": [
        "**4)** Para este item você deverá usar o arquivo [com todos os resultados do campeonato Brasileiro de futebol de 2018 (tabelaBrasileirao2018.csv encontrado na pasta aula5/dados)](https://raw.githubusercontent.com/BMClab/BasesComputacionais/master/dados/tabelaBrasileirao2018.csv) (dados obtidos [desta](<https://pt.wikipedia.org/wiki/Resultados_do_Campeonato_Brasileiro_de_Futebol_de_2018_-_S%C3%A9rie_A_(primeiro_turno)>) e [desta](<https://pt.wikipedia.org/wiki/Resultados_do_Campeonato_Brasileiro_de_Futebol_de_2018_-_S%C3%A9rie_A_(segundo_turno)>) página da Wikipedia).\n",
        "\n",
        "- Calcule qual foi a média de Renda para cada Estádio."
      ],
      "metadata": {
        "id": "hLd7pbUS1gLz"
      }
    },
    {
      "cell_type": "code",
      "source": [
        "import pandas as pd\n",
        "import numpy as np\n",
        "\n",
        "tabela = pd.read_csv('https://raw.githubusercontent.com/BMClab/BasesComputacionais/master/dados/tabelaBrasileirao2018.csv')\n",
        "media= tabela.groupby('Estádio')['Renda (R$)'].mean()\n",
        "print('A média da renda arrecadada para cada estádio foi de:\\n',media)"
      ],
      "metadata": {
        "colab": {
          "base_uri": "https://localhost:8080/"
        },
        "id": "5q0dmUwD1iTW",
        "outputId": "3d219aae-1176-4a43-9138-3ba9a5110e62"
      },
      "execution_count": 159,
      "outputs": [
        {
          "output_type": "stream",
          "name": "stdout",
          "text": [
            "A média da renda arrecadada para cada estádio foi de:\n",
            " Estádio\n",
            "Allianz Parque, São Paulo                 2.184977e+06\n",
            "Arena Condá, Chapecó                      2.561482e+05\n",
            "Arena Corinthians, São Paulo              1.335615e+06\n",
            "Arena Fonte Nova, Salvador                3.916003e+05\n",
            "Arena Pernambuco, São Lourenço da Mata    5.939100e+05\n",
            "Arena da Baixada, Curitiba                2.660111e+05\n",
            "Arena do Grêmio, Porto Alegre             7.605969e+05\n",
            "Estádio Barradão, Salvador                9.639837e+04\n",
            "Estádio Beira-Rio, Porto Alegre           8.500737e+05\n",
            "Estádio Castelão, Fortaleza               6.231027e+05\n",
            "Estádio Engenhão, Rio de Janeiro          1.670227e+05\n",
            "Estádio Ilha do Retiro, Recife            1.826286e+05\n",
            "Estádio Indepedência, Belo Horizonte      1.131445e+05\n",
            "Estádio Independência, Belo Horizonte     1.854703e+05\n",
            "Estádio Mineirão, Belo Horizonte          3.253155e+05\n",
            "Estádio Nacional, Brasília                2.614730e+06\n",
            "Estádio Presidente Vargas, Fortaleza      1.030408e+05\n",
            "Estádio São Januário, Rio de Janeiro      2.422784e+05\n",
            "Estádio Vila Belmiro, Santos              1.646681e+05\n",
            "Estádio Vila Capanema, Curitiba           1.534964e+05\n",
            "Estádio de Pituaçu, Salvador              2.974750e+05\n",
            "Estádio do Café, Londrina                 1.953570e+06\n",
            "Estádio do Maracanã, Rio de Janeiro       8.491581e+05\n",
            "Estádio do Morumbi, São Paulo             1.188519e+06\n",
            "Estádio do Pacaembu, São Paulo            7.092811e+05\n",
            "Name: Renda (R$), dtype: float64\n"
          ]
        }
      ]
    }
  ]
}