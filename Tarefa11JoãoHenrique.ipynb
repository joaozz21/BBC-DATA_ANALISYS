{
  "nbformat": 4,
  "nbformat_minor": 0,
  "metadata": {
    "colab": {
      "provenance": [],
      "authorship_tag": "ABX9TyNxludSsIRzqM7sJVuw+fiy",
      "include_colab_link": true
    },
    "kernelspec": {
      "name": "python3",
      "display_name": "Python 3"
    },
    "language_info": {
      "name": "python"
    }
  },
  "cells": [
    {
      "cell_type": "markdown",
      "metadata": {
        "id": "view-in-github",
        "colab_type": "text"
      },
      "source": [
        "<a href=\"https://colab.research.google.com/github/joaozz21/BBC19JOAOHENRIQUE/blob/main/Tarefa11Jo%C3%A3oHenrique.ipynb\" target=\"_parent\"><img src=\"https://colab.research.google.com/assets/colab-badge.svg\" alt=\"Open In Colab\"/></a>"
      ]
    },
    {
      "cell_type": "markdown",
      "source": [
        "##João Henrique Alves de Oliveira "
      ],
      "metadata": {
        "id": "f0ygs9yzr3IJ"
      }
    },
    {
      "cell_type": "markdown",
      "source": [
        "- **1)** Faça a aproximação de $\\pi$ usando a fórmula de Leibniz:\n",
        "\n",
        "$$\\pi \\approx 4 - \\frac{4}{3} + \\frac{4}{5} - \\frac{4}{7} + \\frac{4}{9}+...$$\n",
        "\n",
        "Calcule (e mostre na tela) a aproximação de $\\pi$ considerando a) 50 termos, b) 500 termos, c) 1000 termos e d) 10000 termos. \n",
        "\n",
        "Dica: Note que o sinal do termo muda a cada termo. Talvez verificar se o $i$ é par ou ímpar ajude a decidir se para aquele i o sinal é mais ou menos.\n"
      ],
      "metadata": {
        "id": "Rsk0XXzwcTvf"
      }
    },
    {
      "cell_type": "code",
      "execution_count": 80,
      "metadata": {
        "colab": {
          "base_uri": "https://localhost:8080/"
        },
        "id": "Q0bcaqmbrnqz",
        "outputId": "352d0819-9241-4775-a991-68dd8fcbbda0"
      },
      "outputs": [
        {
          "output_type": "stream",
          "name": "stdout",
          "text": [
            "S= 3.121594652591011\n",
            "S= 3.139592655589785\n",
            "S= 3.140592653839794\n",
            "S= 3.1414926535900345\n"
          ]
        }
      ],
      "source": [
        "import numpy as np\n",
        "\n",
        "#a)\n",
        "N=50\n",
        "S=0\n",
        "\n",
        "for i in range(N):\n",
        "  if i%2==0:\n",
        "    S=S+4/np.abs(3*i-(i-1))\n",
        "  if i%2==1:\n",
        "    S=S-4/np.abs(3*i-(i-1))\n",
        "print('S=',S)\n",
        "\n",
        "#b)\n",
        "\n",
        "N=500\n",
        "S=0\n",
        "\n",
        "for i in range(N):\n",
        "  if i%2==0:\n",
        "    S=S+4/np.abs(3*i-(i-1))\n",
        "  if i%2==1:\n",
        "    S=S-4/np.abs(3*i-(i-1))\n",
        "print('S=',S)\n",
        "\n",
        "#c)\n",
        "\n",
        "N=1000\n",
        "S=0\n",
        "\n",
        "for i in range(N):\n",
        "  if i%2==0:\n",
        "    S=S+4/np.abs(3*i-(i-1))\n",
        "  if i%2==1:\n",
        "    S=S-4/np.abs(3*i-(i-1))\n",
        "print('S=',S)\n",
        "\n",
        "#d)\n",
        "\n",
        "N=10000\n",
        "S=0\n",
        "\n",
        "for i in range(N):\n",
        "  if i%2==0:\n",
        "    S=S+4/np.abs(3*i-(i-1))\n",
        "  if i%2==1:\n",
        "    S=S-4/np.abs(3*i-(i-1))\n",
        "print('S=',S)\n",
        "\n",
        "\n"
      ]
    }
  ]
}