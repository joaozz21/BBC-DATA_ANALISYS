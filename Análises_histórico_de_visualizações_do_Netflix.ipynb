{
  "nbformat": 4,
  "nbformat_minor": 0,
  "metadata": {
    "colab": {
      "provenance": [],
      "authorship_tag": "ABX9TyNRSfVLBO+O4mECnTVzwPX7",
      "include_colab_link": true
    },
    "kernelspec": {
      "name": "python3",
      "display_name": "Python 3"
    },
    "language_info": {
      "name": "python"
    }
  },
  "cells": [
    {
      "cell_type": "markdown",
      "metadata": {
        "id": "view-in-github",
        "colab_type": "text"
      },
      "source": [
        "<a href=\"https://colab.research.google.com/github/joaozz21/Projetos_de_Estudo/blob/main/An%C3%A1lises_hist%C3%B3rico_de_visualiza%C3%A7%C3%B5es_do_Netflix.ipynb\" target=\"_parent\"><img src=\"https://colab.research.google.com/assets/colab-badge.svg\" alt=\"Open In Colab\"/></a>"
      ]
    },
    {
      "cell_type": "markdown",
      "source": [
        "# João Henrique ALves de Oliveira"
      ],
      "metadata": {
        "id": "k8IW0Rj-qWJg"
      }
    },
    {
      "cell_type": "markdown",
      "source": [
        "Para este item você pode usar [esse histórico de visualização do Netflix](https://raw.githubusercontent.com/BMClab/BasesComputacionais/master/dados/netflix.csv) ou, se você tiver acesso ao Netflix, usar o seu [histórico](https://www.netflix.com/viewingactivity) (após entrar com a sua senha, role até o final da página e clique em \"Baixar tudo\").\n",
        "\n",
        "   + Mostre quais são os 10 programas mais vistos.\n",
        "   + Em qual mês do ano foi assistido mais programas?"
      ],
      "metadata": {
        "id": "OrpLYiAfqgOI"
      }
    },
    {
      "cell_type": "code",
      "execution_count": 22,
      "metadata": {
        "colab": {
          "base_uri": "https://localhost:8080/"
        },
        "id": "q3TDOVrtnrVh",
        "outputId": "27907584-f836-4e9b-ddc3-f34f3d453311"
      },
      "outputs": [
        {
          "output_type": "stream",
          "name": "stdout",
          "text": [
            "Os 10 programas mais vistos são:\n",
            "\n",
            "Jornada nas Estrelas: A nova geração | visto 67 vezes\n",
            "Star Trek: Enterprise | visto 63 vezes\n",
            "The Crown | visto 60 vezes\n",
            "Jornada nas Estrelas: Deep Space Nine | visto 56 vezes\n",
            "Aggretsuko | visto 48 vezes\n",
            "Jornada nas estrelas | visto 45 vezes\n",
            "Star Trek: Discovery | visto 42 vezes\n",
            "Cobra Kai | visto 32 vezes\n",
            "Downton Abbey | visto 25 vezes\n",
            "Era uma vez | visto 23 vezes\n",
            "\n",
            "O Mês do ano em que programas foram mais assistidos foi o mês de March\n"
          ]
        }
      ],
      "source": [
        "import pandas as pd\n",
        "\n",
        "ds3= pd.read_csv(\"https://raw.githubusercontent.com/BMClab/BasesComputacionais/master/dados/netflix.csv\")\n",
        "\n",
        "ds3['Categoria'] = 'Filme'\n",
        "ds3.loc[ds3['Title'].str.contains(\": Temporada|: Stranger|: Parte\"),'Categoria'] = 'Série'\n",
        "ds3['Programa'] = ds3['Title']\n",
        "ds3[['Programa','Episódio']] = ds3[ds3['Categoria']=='Série']['Title'].str.split(pat = ': Temporada|: Stranger Things|: Parte', expand = True, n = 1)\n",
        "ds3.loc[ds3['Categoria']=='Filme', 'Programa'] = ds3.loc[ds3['Categoria']=='Filme', 'Title']\n",
        "ds3 = ds3.drop(columns = 'Title')\n",
        "ds3['Count'] = 1\n",
        "\n",
        "top10 = ds3.groupby('Programa').count().sort_values('Count',ascending = False).head(10)\n",
        "print('Os 10 programas mais vistos são:\\n')\n",
        "for i in top10.index:\n",
        "  print(f'{i} | visto {top10.loc[i, \"Count\"]} vezes')\n",
        "\n",
        "\n",
        "ds3['Date'] = pd.to_datetime(ds3['Date'], format= \"%d/%m/%Y\")\n",
        "ds3['Mês'] = ds3['Date'].dt.month_name()\n",
        "mesMaisAssistido = ds3['Mês'].mode()\n",
        "print(\n",
        "    f'\\nO Mês do ano em que programas foram mais assistidos foi o mês de {mesMaisAssistido[0]}'\n",
        "    )"
      ]
    },
    {
      "cell_type": "code",
      "source": [
        "top10['Count']"
      ],
      "metadata": {
        "colab": {
          "base_uri": "https://localhost:8080/",
          "height": 429
        },
        "id": "zyZGBfQerMeN",
        "outputId": "f0532b5b-19a9-4023-bd37-76b7a4443a3d"
      },
      "execution_count": 26,
      "outputs": [
        {
          "output_type": "execute_result",
          "data": {
            "text/plain": [
              "Programa\n",
              "Jornada nas Estrelas: A nova geração     67\n",
              "Star Trek: Enterprise                    63\n",
              "The Crown                                60\n",
              "Jornada nas Estrelas: Deep Space Nine    56\n",
              "Aggretsuko                               48\n",
              "Jornada nas estrelas                     45\n",
              "Star Trek: Discovery                     42\n",
              "Cobra Kai                                32\n",
              "Downton Abbey                            25\n",
              "Era uma vez                              23\n",
              "Name: Count, dtype: int64"
            ],
            "text/html": [
              "<div>\n",
              "<style scoped>\n",
              "    .dataframe tbody tr th:only-of-type {\n",
              "        vertical-align: middle;\n",
              "    }\n",
              "\n",
              "    .dataframe tbody tr th {\n",
              "        vertical-align: top;\n",
              "    }\n",
              "\n",
              "    .dataframe thead th {\n",
              "        text-align: right;\n",
              "    }\n",
              "</style>\n",
              "<table border=\"1\" class=\"dataframe\">\n",
              "  <thead>\n",
              "    <tr style=\"text-align: right;\">\n",
              "      <th></th>\n",
              "      <th>Count</th>\n",
              "    </tr>\n",
              "    <tr>\n",
              "      <th>Programa</th>\n",
              "      <th></th>\n",
              "    </tr>\n",
              "  </thead>\n",
              "  <tbody>\n",
              "    <tr>\n",
              "      <th>Jornada nas Estrelas: A nova geração</th>\n",
              "      <td>67</td>\n",
              "    </tr>\n",
              "    <tr>\n",
              "      <th>Star Trek: Enterprise</th>\n",
              "      <td>63</td>\n",
              "    </tr>\n",
              "    <tr>\n",
              "      <th>The Crown</th>\n",
              "      <td>60</td>\n",
              "    </tr>\n",
              "    <tr>\n",
              "      <th>Jornada nas Estrelas: Deep Space Nine</th>\n",
              "      <td>56</td>\n",
              "    </tr>\n",
              "    <tr>\n",
              "      <th>Aggretsuko</th>\n",
              "      <td>48</td>\n",
              "    </tr>\n",
              "    <tr>\n",
              "      <th>Jornada nas estrelas</th>\n",
              "      <td>45</td>\n",
              "    </tr>\n",
              "    <tr>\n",
              "      <th>Star Trek: Discovery</th>\n",
              "      <td>42</td>\n",
              "    </tr>\n",
              "    <tr>\n",
              "      <th>Cobra Kai</th>\n",
              "      <td>32</td>\n",
              "    </tr>\n",
              "    <tr>\n",
              "      <th>Downton Abbey</th>\n",
              "      <td>25</td>\n",
              "    </tr>\n",
              "    <tr>\n",
              "      <th>Era uma vez</th>\n",
              "      <td>23</td>\n",
              "    </tr>\n",
              "  </tbody>\n",
              "</table>\n",
              "</div><br><label><b>dtype:</b> int64</label>"
            ]
          },
          "metadata": {},
          "execution_count": 26
        }
      ]
    },
    {
      "cell_type": "code",
      "source": [
        "ds3.groupby('Mês').count().sort_values('Count',ascending = False).head(10)['Count']"
      ],
      "metadata": {
        "colab": {
          "base_uri": "https://localhost:8080/",
          "height": 429
        },
        "id": "iL5czCLirQ5N",
        "outputId": "578c4b1e-ee0e-4f1e-9e97-8b456f4f61d5"
      },
      "execution_count": 25,
      "outputs": [
        {
          "output_type": "execute_result",
          "data": {
            "text/plain": [
              "Mês\n",
              "March       111\n",
              "June        109\n",
              "December    107\n",
              "February     99\n",
              "January      98\n",
              "April        93\n",
              "May          90\n",
              "November     88\n",
              "July         77\n",
              "October      44\n",
              "Name: Count, dtype: int64"
            ],
            "text/html": [
              "<div>\n",
              "<style scoped>\n",
              "    .dataframe tbody tr th:only-of-type {\n",
              "        vertical-align: middle;\n",
              "    }\n",
              "\n",
              "    .dataframe tbody tr th {\n",
              "        vertical-align: top;\n",
              "    }\n",
              "\n",
              "    .dataframe thead th {\n",
              "        text-align: right;\n",
              "    }\n",
              "</style>\n",
              "<table border=\"1\" class=\"dataframe\">\n",
              "  <thead>\n",
              "    <tr style=\"text-align: right;\">\n",
              "      <th></th>\n",
              "      <th>Count</th>\n",
              "    </tr>\n",
              "    <tr>\n",
              "      <th>Mês</th>\n",
              "      <th></th>\n",
              "    </tr>\n",
              "  </thead>\n",
              "  <tbody>\n",
              "    <tr>\n",
              "      <th>March</th>\n",
              "      <td>111</td>\n",
              "    </tr>\n",
              "    <tr>\n",
              "      <th>June</th>\n",
              "      <td>109</td>\n",
              "    </tr>\n",
              "    <tr>\n",
              "      <th>December</th>\n",
              "      <td>107</td>\n",
              "    </tr>\n",
              "    <tr>\n",
              "      <th>February</th>\n",
              "      <td>99</td>\n",
              "    </tr>\n",
              "    <tr>\n",
              "      <th>January</th>\n",
              "      <td>98</td>\n",
              "    </tr>\n",
              "    <tr>\n",
              "      <th>April</th>\n",
              "      <td>93</td>\n",
              "    </tr>\n",
              "    <tr>\n",
              "      <th>May</th>\n",
              "      <td>90</td>\n",
              "    </tr>\n",
              "    <tr>\n",
              "      <th>November</th>\n",
              "      <td>88</td>\n",
              "    </tr>\n",
              "    <tr>\n",
              "      <th>July</th>\n",
              "      <td>77</td>\n",
              "    </tr>\n",
              "    <tr>\n",
              "      <th>October</th>\n",
              "      <td>44</td>\n",
              "    </tr>\n",
              "  </tbody>\n",
              "</table>\n",
              "</div><br><label><b>dtype:</b> int64</label>"
            ]
          },
          "metadata": {},
          "execution_count": 25
        }
      ]
    }
  ]
}