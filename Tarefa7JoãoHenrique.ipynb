{
  "nbformat": 4,
  "nbformat_minor": 0,
  "metadata": {
    "colab": {
      "provenance": [],
      "authorship_tag": "ABX9TyNqc5KUJ0azXqC/IEvBFUlW",
      "include_colab_link": true
    },
    "kernelspec": {
      "name": "python3",
      "display_name": "Python 3"
    },
    "language_info": {
      "name": "python"
    }
  },
  "cells": [
    {
      "cell_type": "markdown",
      "metadata": {
        "id": "view-in-github",
        "colab_type": "text"
      },
      "source": [
        "<a href=\"https://colab.research.google.com/github/joaozz21/BBC19JOAOHENRIQUE/blob/main/Tarefa7Jo%C3%A3oHenrique.ipynb\" target=\"_parent\"><img src=\"https://colab.research.google.com/assets/colab-badge.svg\" alt=\"Open In Colab\"/></a>"
      ]
    },
    {
      "cell_type": "markdown",
      "source": [
        "##João Henrique Alves de Oliveira\n"
      ],
      "metadata": {
        "id": "kAA6t7zvURX6"
      }
    },
    {
      "cell_type": "markdown",
      "source": [
        "**1)** Faça um programa que mostre se o número inteiro guardado na variável $x$ é par ou ímpar. Caso seja par, deve aparecer na tela: \"O número x é par\". Caso seja ímpar deve aparecer \"O número x é ímpar\". \n",
        "\n",
        "Teste para a) $x$ = 1, b) $x$ = 24, c) $x$ = 10, d) $x$ = 5.\n"
      ],
      "metadata": {
        "id": "p3dEdjlKRx4n"
      }
    },
    {
      "cell_type": "code",
      "source": [
        "#a)\n",
        "x = 1\n",
        "if x%2==0:print('O número x é par')\n",
        "else: print(\"O número x é ímpar\")"
      ],
      "metadata": {
        "colab": {
          "base_uri": "https://localhost:8080/"
        },
        "id": "TXl1hz4bR8xR",
        "outputId": "4de2bd1a-a4b1-4604-ba28-774f52119a86"
      },
      "execution_count": null,
      "outputs": [
        {
          "output_type": "stream",
          "name": "stdout",
          "text": [
            "O número x é ímpar\n"
          ]
        }
      ]
    },
    {
      "cell_type": "code",
      "source": [
        "#b)\n",
        "x = 24\n",
        "if x%2==0:print('O número x é par')\n",
        "else: print(\"O número x é ímpar\")"
      ],
      "metadata": {
        "colab": {
          "base_uri": "https://localhost:8080/"
        },
        "id": "jHrKYKuDS6f2",
        "outputId": "69585458-f755-40d3-ae24-cbbd3415fcbe"
      },
      "execution_count": null,
      "outputs": [
        {
          "output_type": "stream",
          "name": "stdout",
          "text": [
            "O número x é par\n"
          ]
        }
      ]
    },
    {
      "cell_type": "code",
      "source": [
        "#c)\n",
        "x = 10\n",
        "if x%2==0:print('O número x é par')\n",
        "else: print(\"O número x é ímpar\")"
      ],
      "metadata": {
        "colab": {
          "base_uri": "https://localhost:8080/"
        },
        "id": "Uj_PT-NAS9d8",
        "outputId": "94491054-4c12-49dd-b3ac-e7f6da036b70"
      },
      "execution_count": null,
      "outputs": [
        {
          "output_type": "stream",
          "name": "stdout",
          "text": [
            "O número x é par\n"
          ]
        }
      ]
    },
    {
      "cell_type": "code",
      "source": [
        "#d)\n",
        "x = 5\n",
        "if x%2==0:print('O número x é par')\n",
        "else: print(\"O número x é ímpar\")"
      ],
      "metadata": {
        "colab": {
          "base_uri": "https://localhost:8080/"
        },
        "id": "zBJmhlRXTDGZ",
        "outputId": "81a78abf-2e87-4ac6-cdda-cad4790ff3db"
      },
      "execution_count": null,
      "outputs": [
        {
          "output_type": "stream",
          "name": "stdout",
          "text": [
            "O número x é ímpar\n"
          ]
        }
      ]
    }
  ]
}